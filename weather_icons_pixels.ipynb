{
 "cells": [
  {
   "cell_type": "code",
   "execution_count": 3,
   "metadata": {},
   "outputs": [],
   "source": [
    "import os\n",
    "from PIL import Image\n",
    "\n",
    "def get_files_in_folder(path):\n",
    "    files = []\n",
    "    for entry in os.listdir(path):\n",
    "        if os.path.isfile(os.path.join(path, entry)):\n",
    "            files.append(entry)\n",
    "    return files\n"
   ]
  },
  {
   "cell_type": "code",
   "execution_count": 4,
   "metadata": {},
   "outputs": [
    {
     "name": "stdout",
     "output_type": "stream",
     "text": [
      "['Blizzard.png', 'Blizzard_night.png', 'Blowing_snow.png', 'Blowing_snow_night.png', 'Cloudy.png', 'Cloudy_night.png', 'Fog.png', 'Fog_night.png', 'Freezing_drizzle.png', 'Freezing_drizzle_night.png', 'Freezing_fog.png', 'Freezing_fog_night.png', 'Heavy_freezing_drizzle.png', 'Heavy_freezing_drizzle_night.png', 'Heavy_rain.png', 'Heavy_rain_at_times.png', 'Heavy_rain_at_times_night.png', 'Heavy_rain_night.png', 'Heavy_snow.png', 'Heavy_snow_night.png', 'Ice_pellets.png', 'Ice_pellets_night.png', 'Light_drizzle.png', 'Light_drizzle_night.png', 'Light_freezing_rain.png', 'Light_freezing_rain_night.png', 'Light_rain.png', 'Light_rain_night.png', 'Light_rain_shower.png', 'Light_rain_shower_night.png', 'Light_showers_of_ice_pellets.png', 'Light_showers_of_ice_pellets_night.png', 'Light_sleet.png', 'Light_sleet_night.png', 'Light_sleet_showers.png', 'Light_sleet_showers_night.png', 'Light_snow.png', 'Light_snow_night.png', 'Light_snow_showers.png', 'Light_snow_showers_night.png', 'Mist.png', 'Mist_night.png', 'Moderate_or_heavy_freezing_rain.png', 'Moderate_or_heavy_freezing_rain_night.png', 'Moderate_or_heavy_rain_shower.png', 'Moderate_or_heavy_rain_shower_night.png', 'Moderate_or_heavy_rain_with_thunder.png', 'Moderate_or_heavy_rain_with_thunder_night.png', 'Moderate_or_heavy_showers_of_ice_pellets.png', 'Moderate_or_heavy_showers_of_ice_pellets_night.png', 'Moderate_or_heavy_sleet.png', 'Moderate_or_heavy_sleet_night.png', 'Moderate_or_heavy_sleet_showers.png', 'Moderate_or_heavy_sleet_showers_night.png', 'Moderate_or_heavy_snow_showers.png', 'Moderate_or_heavy_snow_showers_night.png', 'Moderate_or_heavy_snow_with_thunder.png', 'Moderate_or_heavy_snow_with_thunder_night.png', 'Moderate_rain.png', 'Moderate_rain_at_times.png', 'Moderate_rain_at_times_night.png', 'Moderate_rain_night.png', 'Moderate_snow.png', 'Moderate_snow_night.png', 'Overcast.png', 'Overcast_night.png', 'Partly_cloudy.png', 'Partly_cloudy_night.png', 'Patchy_freezing_drizzle_possible.png', 'Patchy_freezing_drizzle_possible_night.png', 'Patchy_heavy_snow.png', 'Patchy_heavy_snow_night.png', 'Patchy_light_drizzle.png', 'Patchy_light_drizzle_night.png', 'Patchy_light_rain.png', 'Patchy_light_rain_night.png', 'Patchy_light_rain_with_thunder.png', 'Patchy_light_rain_with_thunder_night.png', 'Patchy_light_snow.png', 'Patchy_light_snow_night.png', 'Patchy_light_snow_with_thunder.png', 'Patchy_light_snow_with_thunder_night.png', 'Patchy_moderate_snow.png', 'Patchy_moderate_snow_night.png', 'Patchy_rain_possible.png', 'Patchy_rain_possible_night.png', 'Patchy_sleet_possible.png', 'Patchy_sleet_possible_night.png', 'Patchy_snow_possible.png', 'Patchy_snow_possible_night.png', 'Sunny.png', 'Sunny_night.png', 'Thundery_outbreaks_possible.png', 'Thundery_outbreaks_possible_night.png', 'Torrential_rain_shower.png', 'Torrential_rain_shower_night.png']\n"
     ]
    }
   ],
   "source": [
    "files = get_files_in_folder(os.getcwd()+\"/weather_pixel/\")\n",
    "print(files)"
   ]
  },
  {
   "cell_type": "code",
   "execution_count": 5,
   "metadata": {},
   "outputs": [],
   "source": [
    "\n",
    "for icon in files:\n",
    "    imageDir = (os.getcwd()+\"/weather_pixel/\"+icon)\n",
    "    img = Image.open(imageDir)\n",
    "    imgpixelated = img.resize((38, 38), Image.Resampling.BILINEAR)\n",
    "    result = imgpixelated.resize(img.size, Image.Resampling.NEAREST)\n",
    "    result.save(imageDir)\n"
   ]
  }
 ],
 "metadata": {
  "kernelspec": {
   "display_name": "Python 3",
   "language": "python",
   "name": "python3"
  },
  "language_info": {
   "codemirror_mode": {
    "name": "ipython",
    "version": 3
   },
   "file_extension": ".py",
   "mimetype": "text/x-python",
   "name": "python",
   "nbconvert_exporter": "python",
   "pygments_lexer": "ipython3",
   "version": "3.12.6"
  }
 },
 "nbformat": 4,
 "nbformat_minor": 2
}
