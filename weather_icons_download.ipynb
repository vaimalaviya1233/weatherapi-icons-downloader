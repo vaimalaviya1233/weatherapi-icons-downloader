{
 "cells": [
  {
   "cell_type": "code",
   "execution_count": 1,
   "metadata": {},
   "outputs": [],
   "source": [
    "import requests #import for internet\n",
    "import json #for icon database format"
   ]
  },
  {
   "cell_type": "code",
   "execution_count": 2,
   "metadata": {},
   "outputs": [],
   "source": [
    "# function to download file\n",
    "\n",
    "def download_file(url, filename):\n",
    "    response = requests.get(url)\n",
    "\n",
    "    if response.status_code == 200:\n",
    "        with open(filename, \"wb\") as f:\n",
    "            f.write(response.content)\n",
    "        print(f\"File saved as {filename}\")\n",
    "    else:\n",
    "        print(\"Failed to download File\")"
   ]
  },
  {
   "cell_type": "code",
   "execution_count": 3,
   "metadata": {},
   "outputs": [
    {
     "name": "stdout",
     "output_type": "stream",
     "text": [
      "File saved as weather_conditions.json\n"
     ]
    }
   ],
   "source": [
    "#download weather icon filename json format\n",
    "\n",
    "json_data_file = \"https://www.weatherapi.com/docs/weather_conditions.json\"\n",
    "json_file_name = json_data_file.split(\"/\")[-1]\n",
    "download_file(json_data_file, json_file_name)"
   ]
  },
  {
   "cell_type": "code",
   "execution_count": 4,
   "metadata": {},
   "outputs": [],
   "source": [
    "try:\n",
    "    with open(file=json_file_name, mode=\"r\") as IconDB:\n",
    "        existing_data = json.load(IconDB)\n",
    "except FileNotFoundError:\n",
    "    print(\"File not found\")"
   ]
  },
  {
   "cell_type": "code",
   "execution_count": 5,
   "metadata": {},
   "outputs": [],
   "source": [
    "def wIcon(name):\n",
    "    return \"https://cdn.weatherapi.com/weather/128x128/day/\"+ str(name) +\".png\""
   ]
  },
  {
   "cell_type": "code",
   "execution_count": 6,
   "metadata": {},
   "outputs": [
    {
     "name": "stdout",
     "output_type": "stream",
     "text": [
      "File saved as Sunny.png\n",
      "File saved as Partly_cloudy.png\n",
      "File saved as Cloudy.png\n",
      "File saved as Overcast.png\n",
      "File saved as Mist.png\n",
      "File saved as Patchy_rain_possible.png\n",
      "File saved as Patchy_snow_possible.png\n",
      "File saved as Patchy_sleet_possible.png\n",
      "File saved as Patchy_freezing_drizzle_possible.png\n",
      "File saved as Thundery_outbreaks_possible.png\n",
      "File saved as Blowing_snow.png\n",
      "File saved as Blizzard.png\n",
      "File saved as Fog.png\n",
      "File saved as Freezing_fog.png\n",
      "File saved as Patchy_light_drizzle.png\n",
      "File saved as Light_drizzle.png\n",
      "File saved as Freezing_drizzle.png\n",
      "File saved as Heavy_freezing_drizzle.png\n",
      "File saved as Patchy_light_rain.png\n",
      "File saved as Light_rain.png\n",
      "File saved as Moderate_rain_at_times.png\n",
      "File saved as Moderate_rain.png\n",
      "File saved as Heavy_rain_at_times.png\n",
      "File saved as Heavy_rain.png\n",
      "File saved as Light_freezing_rain.png\n",
      "File saved as Moderate_or_heavy_freezing_rain.png\n",
      "File saved as Light_sleet.png\n",
      "File saved as Moderate_or_heavy_sleet.png\n",
      "File saved as Patchy_light_snow.png\n",
      "File saved as Light_snow.png\n",
      "File saved as Patchy_moderate_snow.png\n",
      "File saved as Moderate_snow.png\n",
      "File saved as Patchy_heavy_snow.png\n",
      "File saved as Heavy_snow.png\n",
      "File saved as Ice_pellets.png\n",
      "File saved as Light_rain_shower.png\n",
      "File saved as Moderate_or_heavy_rain_shower.png\n",
      "File saved as Torrential_rain_shower.png\n",
      "File saved as Light_sleet_showers.png\n",
      "File saved as Moderate_or_heavy_sleet_showers.png\n",
      "File saved as Light_snow_showers.png\n",
      "File saved as Moderate_or_heavy_snow_showers.png\n",
      "File saved as Light_showers_of_ice_pellets.png\n",
      "File saved as Moderate_or_heavy_showers_of_ice_pellets.png\n",
      "File saved as Patchy_light_rain_with_thunder.png\n",
      "File saved as Moderate_or_heavy_rain_with_thunder.png\n",
      "File saved as Patchy_light_snow_with_thunder.png\n",
      "File saved as Moderate_or_heavy_snow_with_thunder.png\n"
     ]
    }
   ],
   "source": [
    "for i in existing_data:\n",
    "    # print(i.get(\"icon\"))\n",
    "    download_file(wIcon(i.get(\"icon\")), (i.get(\"day\").replace(\" \", \"_\") + \".png\"))"
   ]
  },
  {
   "cell_type": "code",
   "execution_count": 15,
   "metadata": {},
   "outputs": [
    {
     "data": {
      "text/plain": [
       "'Heavy_snow'"
      ]
     },
     "execution_count": 15,
     "metadata": {},
     "output_type": "execute_result"
    }
   ],
   "source": [
    "existing_data[33].get(\"day\").replace(\" \", \"_\")"
   ]
  },
  {
   "cell_type": "code",
   "execution_count": null,
   "metadata": {},
   "outputs": [],
   "source": []
  }
 ],
 "metadata": {
  "kernelspec": {
   "display_name": "Python 3",
   "language": "python",
   "name": "python3"
  },
  "language_info": {
   "codemirror_mode": {
    "name": "ipython",
    "version": 3
   },
   "file_extension": ".py",
   "mimetype": "text/x-python",
   "name": "python",
   "nbconvert_exporter": "python",
   "pygments_lexer": "ipython3",
   "version": "3.12.6"
  }
 },
 "nbformat": 4,
 "nbformat_minor": 2
}
